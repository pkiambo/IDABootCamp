{
 "cells": [
  {
   "cell_type": "code",
   "execution_count": 1,
   "metadata": {},
   "outputs": [
    {
     "name": "stdout",
     "output_type": "stream",
     "text": [
      "Enter Hours Worked:80\n",
      "Enter the Pay Rate:16\n"
     ]
    }
   ],
   "source": [
    "HoursWorked = int(input(\"Enter Hours Worked:\"))\n",
    "PayRate = int(input(\"Enter the Pay Rate:\"))"
   ]
  },
  {
   "cell_type": "code",
   "execution_count": 2,
   "metadata": {},
   "outputs": [],
   "source": [
    "#Calculate Overtime Hours\n",
    "OverTime = HoursWorked -40\n"
   ]
  },
  {
   "cell_type": "code",
   "execution_count": 3,
   "metadata": {},
   "outputs": [],
   "source": [
    "#Calculate Overtime Pay\n",
    "if OverTime > 0:\n",
    "    GrossPay = (HoursWorked * PayRate) + ((PayRate * 1.5) * OverTime)\n",
    "\n",
    "#Calculate 40 hour Pay\n",
    "else:\n",
    "    GrossPay = HoursWorked * PayRate\n",
    "   "
   ]
  },
  {
   "cell_type": "code",
   "execution_count": 4,
   "metadata": {},
   "outputs": [
    {
     "name": "stdout",
     "output_type": "stream",
     "text": [
      "The Gross Pay is: \n",
      "2240.0\n"
     ]
    }
   ],
   "source": [
    "#Print Gross Pay\n",
    "print('The Gross Pay is: ')\n",
    "print(GrossPay)"
   ]
  },
  {
   "cell_type": "code",
   "execution_count": null,
   "metadata": {},
   "outputs": [],
   "source": []
  }
 ],
 "metadata": {
  "kernelspec": {
   "display_name": "Python 3",
   "language": "python",
   "name": "python3"
  },
  "language_info": {
   "codemirror_mode": {
    "name": "ipython",
    "version": 3
   },
   "file_extension": ".py",
   "mimetype": "text/x-python",
   "name": "python",
   "nbconvert_exporter": "python",
   "pygments_lexer": "ipython3",
   "version": "3.7.3"
  }
 },
 "nbformat": 4,
 "nbformat_minor": 2
}
